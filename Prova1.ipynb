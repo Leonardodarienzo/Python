{
  "nbformat": 4,
  "nbformat_minor": 0,
  "metadata": {
    "colab": {
      "provenance": [],
      "authorship_tag": "ABX9TyOchm4x3MPoztolpT8dwaSa",
      "include_colab_link": true
    },
    "kernelspec": {
      "name": "python3",
      "display_name": "Python 3"
    },
    "language_info": {
      "name": "python"
    }
  },
  "cells": [
    {
      "cell_type": "markdown",
      "metadata": {
        "id": "view-in-github",
        "colab_type": "text"
      },
      "source": [
        "<a href=\"https://colab.research.google.com/github/Leonardodarienzo/Python/blob/main/Prova1.ipynb\" target=\"_parent\"><img src=\"https://colab.research.google.com/assets/colab-badge.svg\" alt=\"Open In Colab\"/></a>"
      ]
    },
    {
      "cell_type": "code",
      "execution_count": null,
      "metadata": {
        "id": "3BiIeYjuF22x"
      },
      "outputs": [],
      "source": [
        "print(\"hello world\")"
      ]
    },
    {
      "cell_type": "code",
      "source": [
        "a= 10\n",
        "b= 20\n",
        "c=10.5\n",
        "print(a,b,c)"
      ],
      "metadata": {
        "id": "CrPxv85oGDeD"
      },
      "execution_count": null,
      "outputs": []
    },
    {
      "cell_type": "code",
      "source": [
        "somma= a+b\n",
        "sottrazione= a-b\n",
        "moltiplicazione= a * b\n",
        "divisione= a / b\n",
        "print(somma,sottrazione,moltiplicazione,divisione)"
      ],
      "metadata": {
        "colab": {
          "base_uri": "https://localhost:8080/"
        },
        "id": "Tz-0CV2fGQl7",
        "outputId": "cd1b9ddc-dddb-43b6-ddbf-463c9b9e7f43"
      },
      "execution_count": null,
      "outputs": [
        {
          "output_type": "stream",
          "name": "stdout",
          "text": [
            "30 -10 200 0.5\n"
          ]
        }
      ]
    },
    {
      "cell_type": "code",
      "source": [
        "#inserimento dei dati\n",
        "peso = input(\"inserisci il tuo peso\")\n",
        "altezza = input(\"inserisci la tua altezza\")\n",
        "imc = float(peso) / (float(altezza)* float(altezza))\n",
        "if imc>25:\n",
        " print(\"sei sovreppeso\")\n",
        "elif imc<18:\n",
        "  print(\"sei sottopeso\")\n",
        "else:\n",
        "  print(\"sei normale\")\n",
        "\n",
        "\n",
        "\n",
        "print(\"il tuo indice di massa corporea è\", imc)"
      ],
      "metadata": {
        "id": "eFxbolYJG5Sj"
      },
      "execution_count": null,
      "outputs": []
    },
    {
      "cell_type": "code",
      "source": [
        "#scrivere un programma che calcoli le tasse da pagare.\n",
        "#se il reddito e inferiore a 30 mila euro si paga il 15%  \n",
        "#se il reddito è compreso tra 30 mila e 60 mila si paga il 20% \n",
        "#se il reddito è superiore a 60 mila euro si paga il 30%\n",
        "\n",
        "reddito= int(input(\"inserisci il tuo reddito\"))\n",
        "if reddito<30000:\n",
        "  print(\"devi pagare il 15%\")\n",
        "elif reddito>60000:\n",
        "  print(\"devi pagare il 30%\")\n",
        "else:\n",
        "  print(\"devi pagare il 20%\")\n"
      ],
      "metadata": {
        "colab": {
          "base_uri": "https://localhost:8080/"
        },
        "id": "UREGhV2uPcf0",
        "outputId": "ede68de7-1704-4fd0-cf3b-9ce5f5dda3df"
      },
      "execution_count": null,
      "outputs": [
        {
          "output_type": "stream",
          "name": "stdout",
          "text": [
            "inserisci il tuo reddito40000\n",
            "devi pagare il 20%\n"
          ]
        }
      ]
    },
    {
      "cell_type": "code",
      "source": [
        "#un negozio vuole incentivare gli acquisti applicando sconti a chi spende di più, se un cliente spende fino a 100 euro lo sconto è del 15%\n",
        "#se spende da 100 a 200 lo sconto è del 20%\n",
        "#se spende da 200 a 400 euro lo sconto sarà del 30%\n",
        "#se spende oltre 400 euro lo sconto sarà del 60%\n",
        "#scrivere un programma che dato il totale dell'acquisto calcola il prezzo finale che il cliente deve pagare\n",
        "spesa=input(\"scrivi la tua spesa\")\n",
        "if spesa<100 and spesa>200 :\n",
        " print(\"avrai uno sconto del 20%\")\n",
        "if spesa<200 and spesa>400\n",
        "print(\"avrai uno sconto del 30\")\n",
        "\n",
        "  \n",
        "\n"
      ],
      "metadata": {
        "id": "t8KOdUyNRBRs"
      },
      "execution_count": null,
      "outputs": []
    }
  ]
}