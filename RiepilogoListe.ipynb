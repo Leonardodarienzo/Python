{
  "nbformat": 4,
  "nbformat_minor": 0,
  "metadata": {
    "colab": {
      "provenance": [],
      "authorship_tag": "ABX9TyOOkUzFsCTzLlwTyPN5wZCZ",
      "include_colab_link": true
    },
    "kernelspec": {
      "name": "python3",
      "display_name": "Python 3"
    },
    "language_info": {
      "name": "python"
    }
  },
  "cells": [
    {
      "cell_type": "markdown",
      "metadata": {
        "id": "view-in-github",
        "colab_type": "text"
      },
      "source": [
        "<a href=\"https://colab.research.google.com/github/Leonardodarienzo/Python/blob/main/RiepilogoListe.ipynb\" target=\"_parent\"><img src=\"https://colab.research.google.com/assets/colab-badge.svg\" alt=\"Open In Colab\"/></a>"
      ]
    },
    {
      "cell_type": "code",
      "execution_count": null,
      "metadata": {
        "id": "1h65oEuMCeko"
      },
      "outputs": [],
      "source": [
        "#questo notebook contiene informazioni fondamentali per lavorare sulle liste\n"
      ]
    },
    {
      "cell_type": "markdown",
      "source": [
        "#definizione di lista:\n",
        "una lista è una struttura di dati dinamica utilizzata per memorizzare i dati in modo non permanente(salvataggio nella RAM).\n",
        "Dinamico significa che la dimensione della lista non deve essere fissata a priori.\n",
        "Non permanente significa che i dati memorizzati nella lista vengono cancellati quando si chiude il notebook."
      ],
      "metadata": {
        "id": "YaNygGKxCx-S"
      }
    },
    {
      "cell_type": "code",
      "source": [],
      "metadata": {
        "id": "eoSmtwgVFyGB"
      },
      "execution_count": null,
      "outputs": []
    },
    {
      "cell_type": "markdown",
      "source": [
        "1.inizializzazione di una lista \n"
      ],
      "metadata": {
        "id": "i3ECrDq9ETJS"
      }
    },
    {
      "cell_type": "code",
      "source": [
        "lista=[1,2,3,4,5,6,7,8,9]\n",
        "print(lista)"
      ],
      "metadata": {
        "colab": {
          "base_uri": "https://localhost:8080/"
        },
        "id": "o3CgkoRkFaq5",
        "outputId": "2f281d4d-7fba-4fbe-9ac1-7aea200983b4"
      },
      "execution_count": null,
      "outputs": [
        {
          "output_type": "stream",
          "name": "stdout",
          "text": [
            "[1, 2, 3, 4, 5, 6, 7, 8, 9]\n"
          ]
        }
      ]
    },
    {
      "cell_type": "markdown",
      "source": [
        "2.inserimento di elementi"
      ],
      "metadata": {
        "id": "PoJImNbDEZKK"
      }
    },
    {
      "cell_type": "code",
      "source": [
        "lista.append(10)#aggiunge un elemento alla fine della lista\n",
        "print(lista)\n",
        "lista.extend([11,12,13])#aggiunge 3 elementi alla fine della lista\n",
        "print(lista)\n",
        "lista.insert(5,20)#aggiungere il numero 20 alla posizione 5\n",
        "print(lista)"
      ],
      "metadata": {
        "colab": {
          "base_uri": "https://localhost:8080/"
        },
        "id": "fXOV9JUQFkDC",
        "outputId": "a20f7ed3-8fd2-405f-da23-915c521bfdb2"
      },
      "execution_count": null,
      "outputs": [
        {
          "output_type": "stream",
          "name": "stdout",
          "text": [
            "[1, 2, 3, 4, 5, 6, 7, 8, 9, 10, 10, 10, 10]\n",
            "[1, 2, 3, 4, 5, 6, 7, 8, 9, 10, 10, 10, 10, 11, 12, 13]\n",
            "[1, 2, 3, 4, 5, 20, 6, 7, 8, 9, 10, 10, 10, 10, 11, 12, 13]\n"
          ]
        }
      ]
    },
    {
      "cell_type": "markdown",
      "source": [
        "3.visualizzazione di una lista"
      ],
      "metadata": {
        "id": "yzoxuYvUEcJJ"
      }
    },
    {
      "cell_type": "code",
      "source": [
        "print(lista)"
      ],
      "metadata": {
        "colab": {
          "base_uri": "https://localhost:8080/"
        },
        "id": "IPg76lqRGV8C",
        "outputId": "40922f2d-c072-4160-9fe4-549d0c313544"
      },
      "execution_count": null,
      "outputs": [
        {
          "output_type": "stream",
          "name": "stdout",
          "text": [
            "[1, 2, 3, 4, 5, 20, 6, 7, 8, 9, 10, 10, 10, 10, 11, 12, 13]\n"
          ]
        }
      ]
    },
    {
      "cell_type": "markdown",
      "source": [
        "4.rimozione di elementi in una lista"
      ],
      "metadata": {
        "id": "i8cFJl0rEhP5"
      }
    },
    {
      "cell_type": "code",
      "source": [
        "lista.remove(10)# rimuovere la prima occorrenza (oppure istanza) del numero 10\n",
        "print(lista)\n",
        "lista.pop(10)#rimuove l'elemento nella posizione 10\n",
        "print(lista)\n",
        "del lista[10]#rimuove l'elemento nella posizione 10\n",
        "print(lista)"
      ],
      "metadata": {
        "colab": {
          "base_uri": "https://localhost:8080/"
        },
        "id": "ibLjhbazHLTi",
        "outputId": "219b8130-e43d-4b22-be10-7b23b60eefc4"
      },
      "execution_count": null,
      "outputs": [
        {
          "output_type": "stream",
          "name": "stdout",
          "text": [
            "[1, 2, 3, 4, 5, 20, 6, 7, 8, 9, 11, 12, 13]\n",
            "[1, 2, 3, 4, 5, 20, 6, 7, 8, 9, 12, 13]\n",
            "[1, 2, 3, 4, 5, 20, 6, 7, 8, 9, 13]\n"
          ]
        }
      ]
    },
    {
      "cell_type": "markdown",
      "source": [
        "5.aggiunta di un elemento di una lista"
      ],
      "metadata": {
        "id": "hibK4mB4ElRC"
      }
    },
    {
      "cell_type": "code",
      "source": [],
      "metadata": {
        "id": "OPRaTbyyIHxK"
      },
      "execution_count": null,
      "outputs": []
    },
    {
      "cell_type": "code",
      "source": [
        "lista.append(10)#aggiunge un elemento alla fine della lista\n",
        "print(lista)\n",
        "lista.extend([11,12,13])#aggiunge 3 elementi alla fine della lista\n",
        "print(lista)\n",
        "lista.insert(5,20)#aggiungere il numero 20 alla posizione 5\n",
        "print(lista)"
      ],
      "metadata": {
        "colab": {
          "base_uri": "https://localhost:8080/"
        },
        "outputId": "bc7e11be-0424-45d6-f06a-95d170a55045",
        "id": "CFeBeYW0IRk0"
      },
      "execution_count": null,
      "outputs": [
        {
          "output_type": "stream",
          "name": "stdout",
          "text": [
            "[1, 2, 3, 4, 5, 20, 6, 7, 8, 9, 13, 10]\n",
            "[1, 2, 3, 4, 5, 20, 6, 7, 8, 9, 13, 10, 11, 12, 13]\n",
            "[1, 2, 3, 4, 5, 20, 20, 6, 7, 8, 9, 13, 10, 11, 12, 13]\n"
          ]
        }
      ]
    },
    {
      "cell_type": "markdown",
      "source": [
        "6.visualizzazione di uno o più elementi in una lista"
      ],
      "metadata": {
        "id": "Fa5ih5BsEunR"
      }
    },
    {
      "cell_type": "code",
      "source": [
        "print(lista[4])#visualizza il quinto elemento,cioè l'elemento in posizione 4 perchè l'indice della lista inizia da 0\n",
        "print(lista[4:8])#visualizza gli elementi dalla posizione 4 alla posizione 7\n",
        "print(lista[4:8:2])#visualizza gli elementi dalla posizione 4 alla posizione 7 prendendoli a due a due\n",
        "print(lista[4:])#visualizzazione degli elementin dopo il 4\n",
        "print(lista[:4])#visualizzazione degli elementi fino alla posizione 4\n",
        "print(lista[::4])#visualizza tutti i numeri a 4 a 4 \n",
        "print(lista[-1])#visualizza ultimo elemento\n",
        "lista.index(10)#l'indice dove si trova laprima occorennza del punto 10"
      ],
      "metadata": {
        "colab": {
          "base_uri": "https://localhost:8080/"
        },
        "id": "32Y5Ti3JIara",
        "outputId": "c6289337-8a15-4328-e7ae-924a96058fb9"
      },
      "execution_count": null,
      "outputs": [
        {
          "output_type": "stream",
          "name": "stdout",
          "text": [
            "12\n",
            "[12, 11, 10, 9]\n",
            "[12, 10]\n",
            "[12, 11, 10, 9, 8, 7, 6, 5, 4, 3, 2, 1]\n",
            "[20, 20, 13, 13]\n",
            "[20, 12, 8, 4]\n",
            "1\n"
          ]
        },
        {
          "output_type": "execute_result",
          "data": {
            "text/plain": [
              "6"
            ]
          },
          "metadata": {},
          "execution_count": 38
        }
      ]
    },
    {
      "cell_type": "code",
      "source": [],
      "metadata": {
        "id": "lUINGI6ZSv6i"
      },
      "execution_count": null,
      "outputs": []
    },
    {
      "cell_type": "markdown",
      "source": [
        "7.trovare minimo e massimo in una lista            "
      ],
      "metadata": {
        "id": "8JD5KjQeE-RS"
      }
    },
    {
      "cell_type": "code",
      "source": [
        "min(lista)\n",
        "max(lista)"
      ],
      "metadata": {
        "id": "nB2VXdDKLKAF"
      },
      "execution_count": null,
      "outputs": []
    },
    {
      "cell_type": "markdown",
      "source": [
        "8.effettuare operazioni sugli elementi di una lista"
      ],
      "metadata": {
        "id": "ZdLE3i1SFCRp"
      }
    },
    {
      "cell_type": "code",
      "source": [
        "sum(lista)#somma elementi della lista\n",
        "from statistics import mean\n",
        "mean(lista)#calcola la media degli elementi di una lista\n",
        "len(lista)#conta quanti elementi ha una lista"
      ],
      "metadata": {
        "id": "0ZJrMU1mLSUa"
      },
      "execution_count": null,
      "outputs": []
    },
    {
      "cell_type": "markdown",
      "source": [
        "9.ordinare gli elementi di una lista in modo decrescente e crescente"
      ],
      "metadata": {
        "id": "6jTf_Y6LFLsJ"
      }
    },
    {
      "cell_type": "code",
      "source": [
        "lista.sort()#ordina gli elementi di una lista in maniera crescente\n",
        "print(lista)\n",
        "lista.sort(reverse = True)#ordina gli elementi di una lista in maniera decrescente\n",
        "print(lista)"
      ],
      "metadata": {
        "colab": {
          "base_uri": "https://localhost:8080/"
        },
        "id": "H3QQbQRNL6nq",
        "outputId": "85aaf543-8d18-4401-b79c-8a211d2aadc2"
      },
      "execution_count": null,
      "outputs": [
        {
          "output_type": "stream",
          "name": "stdout",
          "text": [
            "[1, 2, 3, 4, 5, 6, 7, 8, 9, 10, 11, 12, 13, 13, 20, 20]\n",
            "[20, 20, 13, 13, 12, 11, 10, 9, 8, 7, 6, 5, 4, 3, 2, 1]\n"
          ]
        }
      ]
    },
    {
      "cell_type": "markdown",
      "source": [
        "10.controllo della presenza di un elemento nella lista"
      ],
      "metadata": {
        "id": "uvU4o47vNe26"
      }
    },
    {
      "cell_type": "code",
      "source": [
        "9 in lista#resistituisce true se è presente il 9 , e se è assente ti restituisce falso"
      ],
      "metadata": {
        "id": "Awbm0_wDNmBc"
      },
      "execution_count": null,
      "outputs": []
    }
  ]
}