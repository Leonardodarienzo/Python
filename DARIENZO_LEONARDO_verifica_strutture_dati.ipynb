{
  "nbformat": 4,
  "nbformat_minor": 0,
  "metadata": {
    "colab": {
      "provenance": [],
      "include_colab_link": true
    },
    "kernelspec": {
      "name": "python3",
      "display_name": "Python 3"
    },
    "language_info": {
      "name": "python"
    }
  },
  "cells": [
    {
      "cell_type": "markdown",
      "metadata": {
        "id": "view-in-github",
        "colab_type": "text"
      },
      "source": [
        "<a href=\"https://colab.research.google.com/github/Leonardodarienzo/Python/blob/main/DARIENZO_LEONARDO_verifica_strutture_dati.ipynb\" target=\"_parent\"><img src=\"https://colab.research.google.com/assets/colab-badge.svg\" alt=\"Open In Colab\"/></a>"
      ]
    },
    {
      "cell_type": "markdown",
      "source": [
        "Scrivere il codice richiesto nei vari esercizi facendo in modo di scrivere il codice ottimale per rispondere alla richiesta (il più veloce, quello con meno istruzioni, quello che può funzionare con strutture dati di lunghezza diversa, ...)"
      ],
      "metadata": {
        "id": "V-uw65vXN8fi"
      }
    },
    {
      "cell_type": "markdown",
      "source": [
        "##Esercizio 1"
      ],
      "metadata": {
        "id": "xXqI-Ok3Lxoi"
      }
    },
    {
      "cell_type": "markdown",
      "source": [
        "Tre amici devono mettersi d'accordo per uscire una sera a bere una birra. Aldo  disponibile il lunedì, il mercoledì e il venerdì, Gianni il martedì, il giovedì e il sabato e Andrea IL mercoledì, il giovedì il venerdì e il sabato."
      ],
      "metadata": {
        "id": "jCT_Wi_4ISzf"
      }
    },
    {
      "cell_type": "markdown",
      "source": [
        "1. memorizzare le informazioni del testo precedente in una opportuna struttura dati, tenendo anche conto delle richieste degli esercizi successivi"
      ],
      "metadata": {
        "id": "Nzle6Zy7IpLU"
      }
    },
    {
      "cell_type": "code",
      "source": [
        "giorniliberidiAldo = {\"Lunedì\",\"Mercoledì\",\"Venerdì\"}\n",
        "giorniliberidiGianni = {\"Martedì\",\"Giovedì\",\"Sabato\"}\n",
        "giorniliberidiAndrea = {\"Mercoledì\",\"Giovedì\",\"Venerdì\",\"Sabato\"}\n",
        "giornidellasettimana = {\"Lunedì\",\"Martedì\",\"Mercoledì\",\"Giovedì\",\"Venerdì\",\"Sabato\",\"Domenica\"}\n",
        "print(giorniliberidiAldo)\n",
        "print(giorniliberidiGianni)\n",
        "print(giorniliberidiAndrea)\n",
        "print(giornidellasettimana)"
      ],
      "metadata": {
        "id": "5To3RwMDIzAZ"
      },
      "execution_count": null,
      "outputs": []
    },
    {
      "cell_type": "markdown",
      "source": [
        "2. quali giorni potrebbero andare bene a tutti e tre gli amici?"
      ],
      "metadata": {
        "id": "BJxpeYQcIzqN"
      }
    },
    {
      "cell_type": "code",
      "source": [
        "giorniincuituttietresonoliberi = giorniliberidiGianni.union(giorniliberidiAldo.union(giorniliberidiAndrea))\n",
        "print(giorniincuituttietresonoliberi)"
      ],
      "metadata": {
        "id": "s6v6oyR049fJ"
      },
      "execution_count": null,
      "outputs": []
    },
    {
      "cell_type": "markdown",
      "source": [
        "3. in quali giorni nessuno  libero?"
      ],
      "metadata": {
        "id": "Gukw3fgGI6_o"
      }
    },
    {
      "cell_type": "code",
      "source": [
        "giorniincuituttietresonoliberi = giorniliberidiAldo.union(giorniliberidiGianni.union(giorniliberidiAndrea))\n",
        "print(giorniincuituttietresonoliberi)\n",
        "giorniincuinessunoelibero = giornidellasettimana.difference(giorniincuituttietresonoliberi)\n",
        "print(giorniincuinessunoelibero)"
      ],
      "metadata": {
        "id": "mMGUblkYI_M-"
      },
      "execution_count": null,
      "outputs": []
    },
    {
      "cell_type": "markdown",
      "source": [
        "4. in quali giorni Aldo e Andrea sono liberi?"
      ],
      "metadata": {
        "id": "d4GL2H13I_jY"
      }
    },
    {
      "cell_type": "code",
      "source": [
        "giorniincuiAldoeAndreasonoliberi = giorniliberidiAldo.union(giorniliberidiAndrea)\n",
        "print(giorniincuiAldoeAndreasonoliberi)"
      ],
      "metadata": {
        "id": "Fa24_EhWJHHr",
        "colab": {
          "base_uri": "https://localhost:8080/"
        },
        "outputId": "3a08d271-b45e-4b29-e067-0ea35e88c7d5"
      },
      "execution_count": null,
      "outputs": [
        {
          "output_type": "stream",
          "name": "stdout",
          "text": [
            "{'Sabato', 'Giovedì', 'Lunedì', 'Mercoledì', 'Venerdì'}\n"
          ]
        }
      ]
    },
    {
      "cell_type": "markdown",
      "source": [
        "5. in quali giorni almeno due amici sono liberi?"
      ],
      "metadata": {
        "id": "M_46HVApJHds"
      }
    },
    {
      "cell_type": "code",
      "execution_count": null,
      "metadata": {
        "id": "sedw49_3IPek"
      },
      "outputs": [],
      "source": [
        "giorniincuialmenodueamicisonoliberi = giorniliberidiAldo.union(giorniliberidiAndrea.union(giorniliberidiGianni))\n",
        "print(giorniincuialmenodueamicisonoliberi)"
      ]
    },
    {
      "cell_type": "markdown",
      "source": [
        "##Esercizio 2"
      ],
      "metadata": {
        "id": "ESIhTrtGNI52"
      }
    },
    {
      "cell_type": "markdown",
      "source": [
        "Si vogliono  memorizzare i nomi dei re di Roma dal primo all'ultimo ed effettuare su di essi alcune operazioni."
      ],
      "metadata": {
        "id": "LXoA2IiMNK5l"
      }
    },
    {
      "cell_type": "markdown",
      "source": [
        "1. memorizzare le informazioni del testo precedente in una opportuna struttura dati, tenendo anche conto delle richieste degli esercizi successivi"
      ],
      "metadata": {
        "id": "kf_MPrGfNewd"
      }
    },
    {
      "cell_type": "code",
      "source": [],
      "metadata": {
        "id": "IMshiJk-Njyn"
      },
      "execution_count": null,
      "outputs": []
    },
    {
      "cell_type": "markdown",
      "source": [
        "2. visualizzare i nomi del primo e dell'ultimo re di Roma"
      ],
      "metadata": {
        "id": "A0TPcne-NkRg"
      }
    },
    {
      "cell_type": "code",
      "source": [],
      "metadata": {
        "id": "_T889pE4N1Jc"
      },
      "execution_count": null,
      "outputs": []
    },
    {
      "cell_type": "markdown",
      "source": [
        "3. visualizzare i nomi dei re dall'ultimo al primo"
      ],
      "metadata": {
        "id": "Vy4vE6axO3Z0"
      }
    },
    {
      "cell_type": "code",
      "source": [],
      "metadata": {
        "id": "pmL0kGIxPFDo"
      },
      "execution_count": null,
      "outputs": []
    },
    {
      "cell_type": "markdown",
      "source": [
        "##Esercizio 3"
      ],
      "metadata": {
        "id": "oJMwiPwtPFsR"
      }
    },
    {
      "cell_type": "markdown",
      "source": [
        "Si vogliono memorizzare alcune informazioni riguardanti i gas nobili. In particolare si vogliono memorizzare il nome, il simbolo chimico e il numero atomico e permettere all'utente di visualizzare alcune informazioni"
      ],
      "metadata": {
        "id": "PwpHAfJfPKPN"
      }
    },
    {
      "cell_type": "markdown",
      "source": [
        "1. memorizzare le informazioni del testo precedente in una opportuna struttura dati, tenendo anche conto delle richieste degli esercizi successivi"
      ],
      "metadata": {
        "id": "nMR7-yhOja0A"
      }
    },
    {
      "cell_type": "code",
      "source": [
        "Gasnobili = [{'name': 'Elio',\n",
        "  'numero di elettroni': '2',\n",
        "  'configurazione elettronica': '1s2',\n",
        "  'Energia di prima ionizzazione': '\t2372',\n",
        "  'Raggio di van der Waals': '99'},\n",
        " {'name': 'Neon',\n",
        "  'numero di elettroni': '2 e 8',\n",
        "  'configurazione elettronica': '2s2 2p6',\n",
        "  'Energia di prima ionizzazione': '2080',\n",
        "  'Raggio di van der Waals': '160'},\n",
        " {'name': 'argon',\n",
        "  'numero di elettroni': '2 e 8',\n",
        "  'configurazione elettronica': '3s2 3p6',\n",
        "  'Energia di prima ionizzazione': '1520',\n",
        "  'Raggio di van der Waals': '191'},\n",
        " {'name': 'Kripton',\n",
        "  'numero di elettroni': '2 8 e 18',\n",
        "  'configurazione elettronica': '4s2 4p6',\n",
        "  'Energia di prima ionizzazione': '1351',\n",
        "  'Raggio di van der Waals': '197'},\n",
        " {'name': 'Xeno',\n",
        "  'numero di elettroni': '2 8 e 18',\n",
        "  'configurazione elettronica': '\t5s2 5p6',\n",
        "  'Energia di prima ionizzazione': '1170',\n",
        "  'Raggio di van der Waals': '214'},\n",
        " {'name': 'Radon',\n",
        "  'numero di elettroni': '2 8 18 e 32',\n",
        "  'configurazione elettronica': '\t6s2 6p6',\n",
        "  'Energia di prima ionizzazione': '\t1037',\n",
        "  'Raggio di van der Waals': 'non ha'}]\n",
        "print(Gasnobili)"
      ],
      "metadata": {
        "id": "BciFoGwsjg-I"
      },
      "execution_count": null,
      "outputs": []
    },
    {
      "cell_type": "markdown",
      "source": [
        "2. far inserire all'utente il nome di un gas nobile e fornire tutte le informaqzioni riguardanti il gas prescelto"
      ],
      "metadata": {
        "id": "cjApSmUGjhhd"
      }
    },
    {
      "cell_type": "code",
      "source": [
        "Informazioni = input()\n",
        "for i in Gasnobili:\n",
        "  if i['name'] == Informazioni:\n",
        "    print(i['numero di elettroni'])\n",
        "    print(i['Energia di prima ionizzazione'])\n",
        "    print(i['Raggio di van der Waals'])"
      ],
      "metadata": {
        "id": "zqD2T38Sjt3N"
      },
      "execution_count": null,
      "outputs": []
    },
    {
      "cell_type": "markdown",
      "source": [
        "3. visualizzare il gas nobile con il numero atomico più alto"
      ],
      "metadata": {
        "id": "Xer44tOLjuVu"
      }
    },
    {
      "cell_type": "code",
      "source": [],
      "metadata": {
        "id": "NAwzmZdwGZ_6"
      },
      "execution_count": null,
      "outputs": []
    },
    {
      "cell_type": "markdown",
      "source": [
        "4. supporre che sia stao scoperto un nuovo gas nobile, il proton (PR) con numero atomico 37. Aggiungerlo alla struttura dati."
      ],
      "metadata": {
        "id": "rMZvxCfbj0WF"
      }
    },
    {
      "cell_type": "code",
      "source": [],
      "metadata": {
        "id": "a1OklhFPHJpb"
      },
      "execution_count": null,
      "outputs": []
    },
    {
      "cell_type": "markdown",
      "source": [
        "5. visualizzare i nomi dei gas nobili in ordine alfabetico"
      ],
      "metadata": {
        "id": "VlIfCVcKkt9n"
      }
    },
    {
      "cell_type": "code",
      "source": [],
      "metadata": {
        "id": "ROJza-cQJcUM"
      },
      "execution_count": null,
      "outputs": []
    },
    {
      "cell_type": "markdown",
      "source": [
        "##Esercizio 4"
      ],
      "metadata": {
        "id": "Hk-uDGLmk-vo"
      }
    },
    {
      "cell_type": "markdown",
      "source": [
        "1. caricare in una lista 100 numeri casuali compresi tra 1 e 50"
      ],
      "metadata": {
        "id": "TfLDWl4ClA6H"
      }
    },
    {
      "cell_type": "code",
      "source": [],
      "metadata": {
        "id": "UqCuNcCZlIBy"
      },
      "execution_count": null,
      "outputs": []
    },
    {
      "cell_type": "markdown",
      "source": [
        "2. eliminare i duplicati"
      ],
      "metadata": {
        "id": "ti7kVIfqlIjt"
      }
    },
    {
      "cell_type": "code",
      "source": [],
      "metadata": {
        "id": "DhxE8_eolLEi"
      },
      "execution_count": null,
      "outputs": []
    },
    {
      "cell_type": "markdown",
      "source": [
        "3. visualizzare i numeri rimasti che non sono multipli di 3"
      ],
      "metadata": {
        "id": "99z3W_dIlMPo"
      }
    },
    {
      "cell_type": "code",
      "source": [],
      "metadata": {
        "id": "OjPtNwQRlXIP"
      },
      "execution_count": null,
      "outputs": []
    }
  ]
}